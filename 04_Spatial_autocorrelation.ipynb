{
 "cells": [
  {
   "cell_type": "markdown",
   "metadata": {},
   "source": [
    "# Spatial autocorrelation\n",
    "\n",
    "Computational notebook 04 for **Morphological tessellation as a way of partitioning space: Improving consistency in urban morphology at the plot scale**.\n",
    "\n",
    "\n",
    "Fleischmann, M., Feliciotti, A., Romice, O. and Porta, S. (2020) _‘Morphological tessellation as a way of partitioning space: Improving consistency in urban morphology at the plot scale’_, Computers, Environment and Urban Systems, 80, p. 101441. doi: [10.1016/j.compenvurbsys.2019.101441](http://doi.org/10.1016/j.compenvurbsys.2019.101441).\n",
    "\n",
    "Archived version of this repository is stored at the University of Strathclyde KnowledgeBase at DOI [10.15129/c766db26-3fa8-45c6-8218-098d529571fc](https://doi.org/10.15129/c766db26-3fa8-45c6-8218-098d529571fc).\n",
    "\n",
    "Contact: martin@martinfleischmann.net\n",
    "\n",
    "Date: 29/03/2020\n",
    "\n",
    "Note: notebook has been cleaned and released retroactively. It is likely that different versions of packages were initially used, but we made sure that the results remained unaltered.\n",
    "\n",
    "---\n",
    "**Description**\n",
    "\n",
    "\n",
    "This notebook generates measures spatial autocorrelation of morphometric characters. Also used to generate figure 12.\n",
    "\n",
    "---\n",
    "**Data**\n",
    "\n",
    "This repository does not contain complete data due to the size limitations. **Complete geospatial data are openly available from the University of Strathclyde KnowledgeBase at DOI [10.15129/c766db26-3fa8-45c6-8218-098d529571fc](https://doi.org/10.15129/c766db26-3fa8-45c6-8218-098d529571fc).** together with an archived version of this repository.\n",
    "\n",
    "The source of the data used wihtin the research is the Amtliche Vermessung dataset accessible from the Zurich municipal GIS open data portal (https://maps.zh.ch). From it can be extracted the cadastral layer (`Liegenschaften_Liegenschaft_Area`) and the layer of buildings (all features named `Gebäude`). All data are licensed under CC-BY 4.0.\n",
    "\n",
    "Source data: Vektor-Übersichtsplan des Kantons Zürich, 13.03.2018, Amt für Raumentwicklung Geoinformation / GIS-Produkte, Kanton Zürich, https://opendata.swiss/de/dataset/vektor-ubersichtsplan1\n",
    "\n",
    "Data structure:\n",
    "\n",
    "```\n",
    "data/\n",
    "    single_uids.csv - IDs of buildings being alone on a single plot (QGIS generated)\n",
    "    \n",
    "    cadastre/\n",
    "        blg_cadvals.shp - Cadastral values spatially joined to buildings to allow 1:1 comparison with tessellation (QGIS generated)\n",
    "    \n",
    "    tessellation/\n",
    "        {k}_tessellation.shp - tessellation layers\n",
    "```"
   ]
  },
  {
   "cell_type": "code",
   "execution_count": 3,
   "metadata": {},
   "outputs": [],
   "source": [
    "import matplotlib.pyplot as plt\n",
    "import geopandas as gpd\n",
    "import esda\n",
    "import libpysal\n",
    "from splot.esda import plot_local_autocorrelation\n",
    "import multiprocessing\n",
    "import pandas as pd"
   ]
  },
  {
   "cell_type": "code",
   "execution_count": 4,
   "metadata": {},
   "outputs": [
    {
     "data": {
      "text/plain": [
       "('2.2.1', '0.7.0', '4.2.2', '1.0.3')"
      ]
     },
     "execution_count": 4,
     "metadata": {},
     "output_type": "execute_result"
    }
   ],
   "source": [
    "esda.__version__, gpd.__version__, libpysal.__version__, pd.__version__"
   ]
  },
  {
   "cell_type": "code",
   "execution_count": null,
   "metadata": {},
   "outputs": [],
   "source": [
    "blg = gpd.read_file('data/cadastre/blg_cadvals.shp')\n",
    "\n",
    "characters = ['area', 'lal', 'circom', 'shapeix', 'rectan', 'fractal',\n",
    "              'orient', 'freq', 'car', 'gini_area', 'gini_car', 'Reach']\n",
    "\n",
    "singleuids = pd.read_csv('data/single_uids.csv')\n",
    "singles = singleuids['2'].to_list()\n",
    "\n",
    "def worker(k):\n",
    "    print(k)\n",
    "    file = gpd.read_file('data/tessellation/{k}_tessellation.shp'.format(k=k))\n",
    "    file_s = file.loc[file['uID'].isin(singles)].copy()\n",
    "    file_m = file.loc[~file['uID'].isin(singles)].copy()\n",
    "    for ch in characters:\n",
    "        print(ch)\n",
    "        try:\n",
    "            local_moran = esda.Moran_Local(file[[ch]], weights)\n",
    "            file['m_{}'.format(ch)] = local_moran.q\n",
    "            file['p_{}'.format(ch)] = local_moran.p_sim\n",
    "            single_moran = esda.Moran_Local(file_s[[ch]], weights_s)\n",
    "            file.loc[file['uID'].isin(singles), 'ms_{}'.format(ch)] = single_moran.q\n",
    "            file.loc[file['uID'].isin(singles), 'ps_{}'.format(ch)] = single_moran.p_sim\n",
    "            multi_moran = esda.Moran_Local(file_m[[ch]], weights_m)\n",
    "            file.loc[~file['uID'].isin(singles), 'mm_{}'.format(ch)] = multi_moran.q\n",
    "            file.loc[~file['uID'].isin(singles), 'pm_{}'.format(ch)] = multi_moran.p_sim\n",
    "        # plot_local_autocorrelation(local_moran, file, ch)\n",
    "        # plt.savefig('files/moran/{k}_{ch}.png'.format(k=k, ch=ch))\n",
    "        # plt.gcf().clear()\n",
    "        except Exception:\n",
    "            print('missing, skipped')\n",
    "    file.to_file('data/tessellation/{k}_tessellation.shp'.format(k=k))\n",
    "    print('saved')\n",
    "\n",
    "weights = libpysal.weights.DistanceBand.from_dataframe(blg, 200)\n",
    "single = blg.loc[blg['uID_left'].isin(singles)].copy()\n",
    "weights_s = libpysal.weights.DistanceBand.from_dataframe(single, 200)\n",
    "multi = blg.loc[~blg['uID_left'].isin(singles)].copy()\n",
    "weights_m = libpysal.weights.DistanceBand.from_dataframe(multi, 200)\n",
    "\n",
    "for ch in characters:\n",
    "    print(ch)\n",
    "    local_moran = esda.Moran_Local(blg[[ch]], weights)\n",
    "    blg['m_{}'.format(ch)] = local_moran.q\n",
    "    blg['p_{}'.format(ch)] = local_moran.p_sim\n",
    "    single_moran = esda.Moran_Local(single[[ch]], weights_s)\n",
    "    blg.loc[blg['uID_left'].isin(singles), 'ms_{}'.format(ch)] = single_moran.q\n",
    "    blg.loc[blg['uID_left'].isin(singles), 'ps_{}'.format(ch)] = single_moran.p_sim\n",
    "    multi_moran = esda.Moran_Local(multi[[ch]], weights_m)\n",
    "    blg.loc[~blg['uID_left'].isin(singles), 'mm_{}'.format(ch)] = multi_moran.q\n",
    "    blg.loc[~blg['uID_left'].isin(singles), 'pm_{}'.format(ch)] = multi_moran.p_sim\n",
    "blg.to_file('data/cadastre/blg_cadvals.shp')"
   ]
  },
  {
   "cell_type": "code",
   "execution_count": null,
   "metadata": {},
   "outputs": [],
   "source": []
  }
 ],
 "metadata": {
  "kernelspec": {
   "display_name": "ceus",
   "language": "python",
   "name": "ceus"
  },
  "language_info": {
   "codemirror_mode": {
    "name": "ipython",
    "version": 3
   },
   "file_extension": ".py",
   "mimetype": "text/x-python",
   "name": "python",
   "nbconvert_exporter": "python",
   "pygments_lexer": "ipython3",
   "version": "3.8.2"
  }
 },
 "nbformat": 4,
 "nbformat_minor": 4
}
